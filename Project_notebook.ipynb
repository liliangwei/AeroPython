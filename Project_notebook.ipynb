{
 "metadata": {
  "name": ""
 },
 "nbformat": 3,
 "nbformat_minor": 0,
 "worksheets": [
  {
   "cells": [
    {
     "cell_type": "heading",
     "level": 1,
     "metadata": {},
     "source": [
      "Linear Strength Vortex Method on Single and Double elements"
     ]
    },
    {
     "cell_type": "heading",
     "level": 2,
     "metadata": {},
     "source": [
      "Linear-strength vortex method"
     ]
    },
    {
     "cell_type": "markdown",
     "metadata": {},
     "source": [
      "We have implemented Source-Vortex method on single element. We are now using linear vortex method to calculate the pressure coefficients and lift. The advantage of linear vortex method is that we only have one set of unknows $\\gamma$. \n",
      "In this case the strength of vortex distribution varies linearly along the element\n",
      "\n",
      "$$ \\gamma(x) = \\gamma_0 + \\gamma_1(x-x_1)$$"
     ]
    },
    {
     "cell_type": "markdown",
     "metadata": {},
     "source": [
      "For the simplicity consider only the linear portion where $\\gamma(x) = \\gamma_1 x$ and $\\gamma_1$ is a constant, The influence of the vortex distribution at a point P in the $x-y$ plan is obatined by integrating the influences of the point elements between $x_1$ to $x_2$ :"
     ]
    },
    {
     "cell_type": "markdown",
     "metadata": {},
     "source": [
      "$$ \\Phi = - \\frac{\\gamma_1}{2\\pi} \\int_{x_1}^{x_2} {x_0 tan^{-1} \\frac{z}{x-x_0}} d x_0$$"
     ]
    },
    {
     "cell_type": "markdown",
     "metadata": {},
     "source": [
      "$$ u  = \\frac{\\gamma_1}{2 \\pi} \\int_{x_2}^{x_1} {\\frac{x_0 y}{(x-x_0)^2 + z^2}} d x_0$$"
     ]
    },
    {
     "cell_type": "markdown",
     "metadata": {},
     "source": [
      "$$ v  = \\frac{\\gamma_1}{2 \\pi} \\int_{x_2}^{x_1} {\\frac{x_0 y}{(x-x_0)^2 + z^2}} d x_0$$"
     ]
    },
    {
     "cell_type": "heading",
     "level": 3,
     "metadata": {},
     "source": [
      "Selection of singularity element"
     ]
    },
    {
     "cell_type": "markdown",
     "metadata": {},
     "source": [
      "Then those equations are converted to panel coordinates."
     ]
    },
    {
     "cell_type": "markdown",
     "metadata": {},
     "source": [
      "$$ u_p = \\frac{y}{2 \\pi} \\ln \\frac{\\gamma_{j+1}}{\\gamma_j} + \\frac{\\gamma_j (x_{j+1} - x_j) + (\\gamma_{j+1} - \\gamma_j)(x - x_j)}{2 \\pi (x_{j+1} - x_j)} (\\theta_{j+1} - \\theta_j)$$"
     ]
    },
    {
     "cell_type": "markdown",
     "metadata": {},
     "source": [
      "$$ v_p = - \\frac{\\gamma_j (x_{j+1} - x_j) + (\\gamma_{j+1}-\\gamma_j)(x - x_j)}{2 \\pi (x_{j+1} - x_j)} \\ln \\frac{\\gamma_j}{\\gamma_{j+1}} + \\frac{y}{2 \\pi} (\\frac{\\gamma_{j+1}-\\gamma_j}{x_{j+1} - x_j}) \\times [\\frac{(x_{j+1} - x_j)}{y} + (\\theta_{j+1} - \\theta_j)]$$"
     ]
    },
    {
     "cell_type": "markdown",
     "metadata": {},
     "source": [
      "where the subscripts $1,2$ refer to the panel edges $j$ and $j+1$, respectively. These two equations can be rewrite as "
     ]
    },
    {
     "cell_type": "heading",
     "level": 3,
     "metadata": {},
     "source": [
      "Discretization of geometry"
     ]
    },
    {
     "cell_type": "markdown",
     "metadata": {},
     "source": [
      "$$(u,v) = (u^a,w^a) + (u^b,w^b)$$"
     ]
    },
    {
     "cell_type": "markdown",
     "metadata": {},
     "source": [
      "where the superscripts $()^a$ and $()^b$ represent the contributions due to the leading and trailing singularity strengths, respectively.In the phase the zero normal flow boundary condition is implemented. For example, the self-induced velocity due to the $j$th element with a <i>unit</i> strength $\\gamma_j$ and $\\gamma_{j+1}$, at the first collocation point can be obtained by the above equation."
     ]
    },
    {
     "cell_type": "markdown",
     "metadata": {},
     "source": [
      "Similarly to the case of linearly varying strength source the velocity at each collocation point is influenced by the two edges of the $j$th panel. Thus, when adding the influence of the $j+1$ panel and on, the local self-induced velocity at the first collocation point will have to be changed. The procedure is similar to the linearly varying strength source method. The influence coefficient is calculated with"
     ]
    },
    {
     "cell_type": "markdown",
     "metadata": {},
     "source": [
      "$$ a_{ij} = (u,v)_{i,j} \\cdot \\textbf{n}_i$$"
     ]
    },
    {
     "cell_type": "markdown",
     "metadata": {},
     "source": [
      "For each collocation point there will be $N+1$ such coefficients and unkonws $\\gamma_j$"
     ]
    },
    {
     "cell_type": "heading",
     "level": 3,
     "metadata": {},
     "source": [
      "Establish boundary condition (RHS)"
     ]
    },
    {
     "cell_type": "markdown",
     "metadata": {},
     "source": [
      "The free-stream normal velocity components $RHS_i$ is found, as in the case of the discrete vortex"
     ]
    },
    {
     "cell_type": "markdown",
     "metadata": {},
     "source": [
      "$$ RHS_i = -(U_\\infty, V_\\infty) \\cdot (cos \\alpha_i, -sin\\alpha_i)$$"
     ]
    },
    {
     "cell_type": "heading",
     "level": 3,
     "metadata": {},
     "source": [
      "Solve equation"
     ]
    },
    {
     "cell_type": "markdown",
     "metadata": {},
     "source": [
      "Specifying the boundary condition for each $(i = 1 \\rightarrow N)$ of the collocation points results in $N$ linear algebraic equaions with the unknowns $\\gamma_j (j= 1 \\rightarrow N+1)$. The additional equation can be found by specifying the Kutta condition at the trailing edge:"
     ]
    },
    {
     "cell_type": "markdown",
     "metadata": {},
     "source": [
      "$$ \\gamma_1 + \\gamma_{N+1} = 0$$"
     ]
    },
    {
     "cell_type": "heading",
     "level": 3,
     "metadata": {},
     "source": [
      "Calculation of pressures"
     ]
    },
    {
     "cell_type": "markdown",
     "metadata": {},
     "source": [
      "Once the strength of the vortices $\\gamma_j$ is konwn, the pertubation velocity at each collocation point can be calculated using the results for a vortex distribution"
     ]
    },
    {
     "cell_type": "markdown",
     "metadata": {},
     "source": [
      "$$ {Q_t}_j = {({Q_t}_\\infty)}_j + \\frac{\\gamma_j + \\gamma_{j+1}}{4}$$"
     ]
    },
    {
     "cell_type": "markdown",
     "metadata": {},
     "source": [
      "and the pressure coefficient can be calculated by using:"
     ]
    },
    {
     "cell_type": "markdown",
     "metadata": {},
     "source": [
      "$$C_P = 1 - \\frac{Q_t^2}{Q_\\infty^2}$$"
     ]
    },
    {
     "cell_type": "heading",
     "level": 2,
     "metadata": {},
     "source": [
      "Linear-strength vortex source code"
     ]
    },
    {
     "cell_type": "markdown",
     "metadata": {},
     "source": [
      "First, load our favorite Python libraries"
     ]
    },
    {
     "cell_type": "code",
     "collapsed": false,
     "input": [
      "import numpy as np\n",
      "from scipy import integrate\n",
      "from math import *\n",
      "import matplotlib.pyplot as plt"
     ],
     "language": "python",
     "metadata": {},
     "outputs": [],
     "prompt_number": 1
    },
    {
     "cell_type": "code",
     "collapsed": false,
     "input": [],
     "language": "python",
     "metadata": {},
     "outputs": []
    }
   ],
   "metadata": {}
  }
 ]
}