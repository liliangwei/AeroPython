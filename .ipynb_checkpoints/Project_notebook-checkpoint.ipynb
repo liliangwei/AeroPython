{
 "metadata": {
  "name": ""
 },
 "nbformat": 3,
 "nbformat_minor": 0,
 "worksheets": [
  {
   "cells": [
    {
     "cell_type": "heading",
     "level": 1,
     "metadata": {},
     "source": [
      "Linear Strength Vortex Method on Single and Double elements"
     ]
    },
    {
     "cell_type": "heading",
     "level": 2,
     "metadata": {},
     "source": [
      "Linear-strength vortex method"
     ]
    },
    {
     "cell_type": "markdown",
     "metadata": {},
     "source": [
      "We have implemented Source-Vortex method on single element. We are now using linear vortex method to calculate the pressure coefficients and lift. The advantage of linear vortex method is that we only have one set of unknows $\\gamma$. \n",
      "In this case the strength of vortex distribution varies linearly along the element\n",
      "\n",
      "$$ \\gamma(x) = \\gamma_0 + \\gamma_1(x-x_1)$$"
     ]
    },
    {
     "cell_type": "markdown",
     "metadata": {},
     "source": [
      "For the simplicity consider only the linear portion where $\\gamma(x) = \\gamma_1 x$ and $\\gamma_1$ is a constant, The influence of the vortex distribution at a point P in the $x-y$ plan is obatined by integrating the influences of the point elements between $x_1$ to $x_2$ :"
     ]
    },
    {
     "cell_type": "markdown",
     "metadata": {},
     "source": [
      "$$ \\Phi = - \\frac{\\gamma_1}{2\\pi} \\int_{x_1}^{x_2} {x_0 tan^{-1} \\frac{z}{x-x_0}} d x_0$$"
     ]
    },
    {
     "cell_type": "markdown",
     "metadata": {},
     "source": [
      "$$ u  = \\frac{\\gamma_1}{2 \\pi} \\int_{x_2}^{x_1} {\\frac{x_0 y}{(x-x_0)^2 + z^2}} d x_0$$"
     ]
    },
    {
     "cell_type": "markdown",
     "metadata": {},
     "source": [
      "$$ v  = \\frac{\\gamma_1}{2 \\pi} \\int_{x_2}^{x_1} {\\frac{x_0 y}{(x-x_0)^2 + z^2}} d x_0$$"
     ]
    },
    {
     "cell_type": "markdown",
     "metadata": {},
     "source": [
      "To solve above equations, we need to convert the them to panel coordinate. After the calculation, convert back to global coordinate."
     ]
    },
    {
     "cell_type": "markdown",
     "metadata": {},
     "source": [
      "$$\\begin{pmatrix} u \\\\ v \\end{pmatrix} = \\begin{pmatrix} cos\\alpha_i & sin\\alpha_i \\\\ -sin\\alpha_i & cos\\alpha_i \\end{pmatrix} \\begin{pmatrix} u_p \\\\ v_p \\end{pmatrix}$$"
     ]
    },
    {
     "cell_type": "markdown",
     "metadata": {},
     "source": [
      "$$ \\begin{pmatrix} x \\\\ y \\end{pmatrix} = \\begin{pmatrix} cos\\alpha_i & -sin\\alpha_i \\\\ sin\\alpha_i & cos\\alpha)i \\end{pmatrix} \\begin{pmatrix} x-x_0 \\\\ y-y_0 \\end{pmatrix} $$"
     ]
    },
    {
     "cell_type": "heading",
     "level": 3,
     "metadata": {},
     "source": [
      "Selection of singularity element"
     ]
    },
    {
     "cell_type": "markdown",
     "metadata": {},
     "source": [
      "Then those equations are converted to panel coordinates."
     ]
    },
    {
     "cell_type": "markdown",
     "metadata": {},
     "source": [
      "$$ u_p = \\frac{y}{2 \\pi} \\ln \\frac{\\gamma_{j+1}}{\\gamma_j} + \\frac{\\gamma_j (x_{j+1} - x_j) + (\\gamma_{j+1} - \\gamma_j)(x - x_j)}{2 \\pi (x_{j+1} - x_j)} (\\theta_{j+1} - \\theta_j)$$"
     ]
    },
    {
     "cell_type": "markdown",
     "metadata": {},
     "source": [
      "$$ v_p = - \\frac{\\gamma_j (x_{j+1} - x_j) + (\\gamma_{j+1}-\\gamma_j)(x - x_j)}{2 \\pi (x_{j+1} - x_j)} \\ln \\frac{\\gamma_j}{\\gamma_{j+1}} + \\frac{y}{2 \\pi} (\\frac{\\gamma_{j+1}-\\gamma_j}{x_{j+1} - x_j}) \\times [\\frac{(x_{j+1} - x_j)}{y} + (\\theta_{j+1} - \\theta_j)]$$"
     ]
    },
    {
     "cell_type": "markdown",
     "metadata": {},
     "source": [
      "where the subscripts $1,2$ refer to the panel edges $j$ and $j+1$, respectively. These two equations can be rewrite as "
     ]
    },
    {
     "cell_type": "heading",
     "level": 3,
     "metadata": {},
     "source": [
      "Discretization of geometry"
     ]
    },
    {
     "cell_type": "markdown",
     "metadata": {},
     "source": [
      "$$(u,v) = (u^a,w^a) + (u^b,w^b)$$"
     ]
    },
    {
     "cell_type": "markdown",
     "metadata": {},
     "source": [
      "where the superscripts $()^a$ and $()^b$ represent the contributions due to the leading and trailing singularity strengths, respectively.In the phase the zero normal flow boundary condition is implemented. For example, the self-induced velocity due to the $j$th element with a <i>unit</i> strength $\\gamma_j$ and $\\gamma_{j+1}$, at the first collocation point can be obtained by the above equation."
     ]
    },
    {
     "cell_type": "markdown",
     "metadata": {},
     "source": [
      "Similarly to the case of linearly varying strength source the velocity at each collocation point is influenced by the two edges of the $j$th panel. Thus, when adding the influence of the $j+1$ panel and on, the local self-induced velocity at the first collocation point will have to be changed. The procedure is similar to the linearly varying strength source method. The influence coefficient is calculated with"
     ]
    },
    {
     "cell_type": "markdown",
     "metadata": {},
     "source": [
      "$$ a_{ij} = (u,v)_{i,j} \\cdot \\textbf{n}_i$$"
     ]
    },
    {
     "cell_type": "markdown",
     "metadata": {},
     "source": [
      "For each collocation point there will be $N+1$ such coefficients and unkonws $\\gamma_j$"
     ]
    },
    {
     "cell_type": "heading",
     "level": 3,
     "metadata": {},
     "source": [
      "Establish boundary condition (RHS)"
     ]
    },
    {
     "cell_type": "markdown",
     "metadata": {},
     "source": [
      "The free-stream normal velocity components $RHS_i$ is found, as in the case of the discrete vortex"
     ]
    },
    {
     "cell_type": "markdown",
     "metadata": {},
     "source": [
      "$$ RHS_i = -(U_\\infty, V_\\infty) \\cdot (cos \\alpha_i, -sin\\alpha_i)$$"
     ]
    },
    {
     "cell_type": "heading",
     "level": 3,
     "metadata": {},
     "source": [
      "Solve equation"
     ]
    },
    {
     "cell_type": "markdown",
     "metadata": {},
     "source": [
      "Specifying the boundary condition for each $(i = 1 \\rightarrow N)$ of the collocation points results in $N$ linear algebraic equaions with the unknowns $\\gamma_j (j= 1 \\rightarrow N+1)$. The additional equation can be found by specifying the Kutta condition at the trailing edge:"
     ]
    },
    {
     "cell_type": "markdown",
     "metadata": {},
     "source": [
      "$$ \\gamma_1 + \\gamma_{N+1} = 0$$"
     ]
    },
    {
     "cell_type": "markdown",
     "metadata": {},
     "source": [
      "Consequently the set of equations to be solved becomes"
     ]
    },
    {
     "cell_type": "markdown",
     "metadata": {},
     "source": [
      "$$ \\begin{pmatrix} a_{11} & a_{12} & \\cdots & \\cdots & a_{1,N+1} \\\\ a_{21} & a_{22} & \\cdots & \\cdots & a_{2,N+1} \\\\ a_{31} & a_{32} & \\cdots & \\cdots & a_{3,N+1} \\\\ \\cdots & \\cdots & \\cdots & \\cdots & \\cdots \\\\ a_{N1} & a_{N2} & \\cdots & \\cdots & a_{N,N+1} \\\\\n",
      "1 & 0 & 0 & \\cdots & 1 \\end{pmatrix} \\begin{pmatrix} \\gamma_1 \\\\ \\gamma_2 \\\\ \\gamma_3 \\\\ \\cdots \\\\ \\gamma_N \\\\ \\gamma_{N+1} \\end{pmatrix} = \\begin{pmatrix} RHS_1 \\\\ RHS_2\\\\ RHS_3 \\\\ \\cdots \\\\ RHS_N \\\\ 0 \\end{pmatrix}$$"
     ]
    },
    {
     "cell_type": "markdown",
     "metadata": {},
     "source": [
      "The above set of algebraic equations has a well-defined diagonal and can be solved for $\\gamma_j$ by using standard methods of linear algebra. In this study, we use reduced row echelon form to solve the linear system."
     ]
    },
    {
     "cell_type": "heading",
     "level": 3,
     "metadata": {},
     "source": [
      "Calculation of pressures"
     ]
    },
    {
     "cell_type": "markdown",
     "metadata": {},
     "source": [
      "Once the strength of the vortices $\\gamma_j$ is konwn, the pertubation velocity at each collocation point can be calculated using the results for a vortex distribution"
     ]
    },
    {
     "cell_type": "markdown",
     "metadata": {},
     "source": [
      "$$ {Q_t}_j = {({Q_t}_\\infty)}_j + \\frac{\\gamma_j + \\gamma_{j+1}}{4}$$"
     ]
    },
    {
     "cell_type": "markdown",
     "metadata": {},
     "source": [
      "and the pressure coefficient can be calculated by using:"
     ]
    },
    {
     "cell_type": "markdown",
     "metadata": {},
     "source": [
      "$$C_P = 1 - \\frac{Q_t^2}{Q_\\infty^2}$$"
     ]
    },
    {
     "cell_type": "heading",
     "level": 2,
     "metadata": {},
     "source": [
      "Linear-strength vortex source code"
     ]
    },
    {
     "cell_type": "markdown",
     "metadata": {},
     "source": [
      "First, load our favorite Python libraries"
     ]
    },
    {
     "cell_type": "code",
     "collapsed": false,
     "input": [
      "import numpy as np\n",
      "from scipy import integrate\n",
      "from math import *\n",
      "import matplotlib.pyplot as plt\n",
      "from IPython.display import Image"
     ],
     "language": "python",
     "metadata": {},
     "outputs": [],
     "prompt_number": 1
    },
    {
     "cell_type": "heading",
     "level": 3,
     "metadata": {},
     "source": [
      "Read in the geometry"
     ]
    },
    {
     "cell_type": "markdown",
     "metadata": {},
     "source": [
      "Next, we read the body geometry from a file using the NumPy function loadtxt(). The file comes from the Airfoil Tools website and it contains a set of coordinates for the standard NACA0012 symmetric profile. We saved the file in the resources folder and load it from our local copy. Then plot it out."
     ]
    },
    {
     "cell_type": "code",
     "collapsed": false,
     "input": [
      "coords = np.loadtxt(fname='/home/starson/AeroPython/resources/n0012.dat')\n",
      "xp,yp = coords[:,0],coords[:,1]            # read in the original airfoil\n",
      "\n",
      "# plotting the geometry\n",
      "valX,valY = 0.2,0.4                          #value for plot margin    \n",
      "xmin,xmax = min(xp),max(xp)\n",
      "ymin,ymax = min(yp),max(yp)\n",
      "xStart,xEnd = xmin-valX*(xmax-xmin),xmax+valX*(xmax-xmin)\n",
      "yStart,yEnd = ymin-valY*(ymax-ymin),ymax+valY*(ymax-ymin)\n",
      "\n",
      "size=10\n",
      "plt.figure(figsize=(size,(yEnd-yStart)/(xEnd-xStart)*size))\n",
      "plt.grid(True)\n",
      "plt.xlabel('x',fontsize=16)\n",
      "plt.ylabel('y',fontsize=16)\n",
      "plt.xlim(xStart,xEnd)\n",
      "plt.ylim(yStart,yEnd)\n",
      "plt.plot(xp,yp,'k-',linewidth=2);"
     ],
     "language": "python",
     "metadata": {},
     "outputs": [
      {
       "metadata": {},
       "output_type": "display_data",
       "png": "[encoded data removed]",
       "text": [
        "<matplotlib.figure.Figure at 0x2f3e350>"
       ]
      }
     ],
     "prompt_number": 2
    },
    {
     "cell_type": "heading",
     "level": 3,
     "metadata": {},
     "source": [
      "Discretization into panels"
     ]
    },
    {
     "cell_type": "markdown",
     "metadata": {},
     "source": [
      "We will create a discretization of the body geometry into panels (line segments in 2D). A panel's attributes are a starting point, an end point, a mid-point, its length and its orientation. See the following figure for the nomenclature used in the code and equations below. And plot it out."
     ]
    },
    {
     "cell_type": "code",
     "collapsed": false,
     "input": [
      "# class Panel containing the info about one panel\n",
      "class Panel:\n",
      "    def __init__(self,xa,ya,xb,yb):\n",
      "        self.xa,self.ya = xa,ya\n",
      "        self.xb,self.yb = xb,yb\n",
      "        self.xc,self.yc = (xa+xb)/2.,(ya+yb)/2.\n",
      "        self.length = sqrt((xb-xa)**2+(yb-ya)**2)\n",
      "        self.TH = atan2((yb-ya),(xb-xa))\n",
      "        \n",
      "        # orientation of panel\n",
      "        if (xb-xa<=0.) : self.beta = acos((yb-ya)/self.length)\n",
      "        elif (xb-xa>0.) : self.beta = pi+acos(-(yb-ya)/self.length)\n",
      "        \n",
      "        #location of the panel\n",
      "        if (self.beta<=pi): self.loc = 'extrados'\n",
      "        else: self.loc = 'intrados'\n",
      "        \n",
      "        self.gamma = 0.0                            # vortex strength\n",
      "        self.vt = 0.0                               # tengential velocity\n",
      "        self.Cp = 0.0                               # pressure coefficient\n",
      "        \n",
      "def definePanels(N,xp,yp):\n",
      "    \n",
      "    R = (max(xp)-min(xp))/2.0                       # radius of circle\n",
      "    xCenter = (max(xp)+min(xp))/2.0                 # x center\n",
      "    xCircle = xCenter + R*np.cos(np.linspace(0,2*pi,N+1))\n",
      "    \n",
      "    x = np.copy(xCircle)      # projection of the x-coord on the surface\n",
      "    y = np.empty_like(x)      # initialization of the y-coord Numpy array\n",
      "    \n",
      "    xp,yp = np.append(xp,xp[0]),np.append(yp,yp[0])  #extend arrays\n",
      "    \n",
      "    I = 0\n",
      "    for i in range(N):\n",
      "        while (I<len(xp)-1):\n",
      "            if(xp[I]<=x[i]<=xp[I+1] or xp[I+1]<=x[i]<=xp[I]): break\n",
      "            else: I += 1\n",
      "        a = (yp[I+1]-yp[I])/(xp[I+1]-xp[I])\n",
      "        b = yp[I+1]-a*xp[I+1]\n",
      "        y[i] = a*x[i]+b\n",
      "    y[N] = y[0]\n",
      "    \n",
      "    panel = np.empty(N,dtype=object)\n",
      "    for i in range(N):\n",
      "        panel[i] = Panel(x[i],y[i],x[i+1],y[i+1])\n",
      "        \n",
      "    return panel\n",
      "\n",
      "N=20\n",
      "panel = definePanels(N,xp,yp)\n",
      "NA = N+1\n",
      "\n",
      "# plotting the geometry with the panels\n",
      "valX,valY = 0.2,0.4\n",
      "xmin,xmax = min([p.xa for p in panel]),max([p.xa for p in panel])\n",
      "ymin,ymax = min([p.ya for p in panel]),max([p.ya for p in panel])\n",
      "xStart,xEnd = xmin-valX*(xmax-xmin),xmax+valX*(xmax-xmin)\n",
      "yStart,yEnd = ymin-valY*(ymax-ymin),ymax+valY*(ymax-ymin)\n",
      "size = 10\n",
      "plt.figure(figsize=(size,(yEnd-yStart)/(xEnd-xStart)*size))\n",
      "plt.grid(True)\n",
      "plt.xlabel('x',fontsize=16)\n",
      "plt.ylabel('y',fontsize=16)\n",
      "plt.xlim(xStart,xEnd)\n",
      "plt.ylim(yStart,yEnd)\n",
      "plt.plot(xp,yp,'k-',linewidth=2)\n",
      "plt.plot(np.append([p.xa for p in panel],panel[0].xa),\\\n",
      "        np.append([p.ya for p in panel],panel[0].ya),\\\n",
      "        marker='D',markersize=6,color='r');"
     ],
     "language": "python",
     "metadata": {},
     "outputs": [
      {
       "metadata": {},
       "output_type": "display_data",
       "png": "[encoded data removed]",
       "text": [
        "<matplotlib.figure.Figure at 0x31b6150>"
       ]
      }
     ],
     "prompt_number": 3
    },
    {
     "cell_type": "heading",
     "level": 3,
     "metadata": {},
     "source": [
      "Freestream conditions"
     ]
    },
    {
     "cell_type": "code",
     "collapsed": false,
     "input": [
      "#Set up free stream flow\n",
      "class Freestream:\n",
      "    def __init__(self,Uinf,alpha):\n",
      "        self.Uinf = Uinf\n",
      "        self.alpha = alpha*pi/180.0\n",
      "\n",
      "Uinf = 5.0\n",
      "alpha = 0       # the angle of attack from main elemnt chord line\n",
      "AL = alpha*pi/180.    # get into radians\n",
      "\n",
      "freestream = Freestream(Uinf,alpha)"
     ],
     "language": "python",
     "metadata": {},
     "outputs": [],
     "prompt_number": 4
    },
    {
     "cell_type": "heading",
     "level": 3,
     "metadata": {},
     "source": [
      "Define reduced row echelon form solver"
     ]
    },
    {
     "cell_type": "code",
     "collapsed": false,
     "input": [
      "def ToReducedRowEchelonForm(M):\n",
      "    #if not M : return\n",
      "    lead = 0\n",
      "    rowCount = len(M)\n",
      "    columnCount = len(M[0])\n",
      "    for r in range(rowCount):\n",
      "        if lead >= columnCount:\n",
      "            return\n",
      "        i=r\n",
      "        while M[i][lead] == 0:\n",
      "            i+= 1\n",
      "            if i==rowCount:\n",
      "                i = r\n",
      "                lead += 1\n",
      "                if columnCount == lead:\n",
      "                    return\n",
      "        M[i],M[r] = M[r],M[i]\n",
      "        lv = M[r][lead]\n",
      "        M[r] = [mrx/lv for mrx in M[r]]\n",
      "        for i in range(rowCount):\n",
      "            if i != r:\n",
      "                lv = M[i][lead]\n",
      "                M[i] = [iv - lv*rv for rv,iv in zip(M[r],M[i])]\n",
      "        lead += 1\n",
      "   \n",
      "    return M"
     ],
     "language": "python",
     "metadata": {},
     "outputs": [],
     "prompt_number": 5
    },
    {
     "cell_type": "heading",
     "level": 3,
     "metadata": {},
     "source": [
      "Build and solve linear system"
     ]
    },
    {
     "cell_type": "code",
     "collapsed": false,
     "input": [
      "A = np.zeros((NA,NA+1),dtype=float)\n",
      "B = np.zeros_like(A)\n",
      "\n",
      "CO1 = [p.xc for p in panel]\n",
      "CO2 = [p.yc for p in panel]\n",
      "\n",
      "TH = [p.TH for p in panel]\n",
      "DL = [p.length for p in panel]\n",
      "\n",
      "HOLDA = 0.0\n",
      "HOLDB = 0.0\n",
      "\n",
      "for i in range(N):\n",
      "    for j in range(N):\n",
      "        XT = CO1[i] - panel[j].xa\n",
      "        YT = CO2[i] - panel[j].ya\n",
      "        X2T = panel[j].xb - panel[j].xa\n",
      "        Y2T = panel[j].yb - panel[j].ya\n",
      "                \n",
      "        X = XT*cos(TH[j]) + YT*sin(TH[j])  # collocation point\n",
      "        Y = -XT*sin(TH[j]) + YT*cos(TH[j]) # collocation point\n",
      "        X1 = 0\n",
      "        Y1 = 0\n",
      "        X2 = X2T*cos(TH[j]) + Y2T*sin(TH[j])\n",
      "        Y2 = 0\n",
      "                \n",
      "        # Find the length of r1,r2,theta1 and theta2\n",
      "        R1 = sqrt((X-X1)**2 + (Y-Y1)**2)   # length from panel point 1 to collocation point in panel coords\n",
      "        R2 = sqrt((X-X2)**2 + (Y-Y2)**2)   # length from panel point 2 to collocation point in panel coords\n",
      "                \n",
      "        TH1 = atan2(Y-Y1,X-X1)\n",
      "        TH2 = atan2(Y-Y2,X-X2)\n",
      "                \n",
      "        if i==j:\n",
      "            Y = 0\n",
      "            TH1 = 0\n",
      "        # Compute velocity components as functions of Gamma1 and Gamma2\n",
      "        # Velocity of panel j due to collocation point i \n",
      "        if(i==j):\n",
      "            U1L = -0.5*(X-X2)/X2*Uinf\n",
      "            U2L = 0.5*X/X2*Uinf\n",
      "            W1L = -0.15916*Uinf\n",
      "            W2L = 0.15916 *Uinf\n",
      " #           W1L = -1.\n",
      " #           W2L = 1.      \n",
      "        else:\n",
      "            U1L = -(Y*log(R2/R1)+X*(TH2-TH1)-X2*(TH2-TH1))/(6.28319*X2)\n",
      "            U2L = (Y*log(R2/R1) + X*(TH2-TH1))/(6.28319*X2)\n",
      "            W1L = -((X2-Y*(TH2-TH1)) - X*log(R1/R2) + X2*log(R1/R2))/(6.28319*X2)\n",
      "            W2L = ((X2 - Y*(TH2-TH1))-X*log(R1/R2))/(6.28319*X2)   \n",
      "                \n",
      "        # Transform the local velocities into global velocity function\n",
      "        U1 = U1L*cos(-TH[j]) + W1L*sin(-TH[j]) \n",
      "        U2 = U2L*cos(-TH[j]) + W2L*sin(-TH[j]) \n",
      "        W1 = -U1L*sin(-TH[j]) + W1L*cos(-TH[j]) \n",
      "        W2 = -U2L*sin(-TH[j]) + W2L*cos(-TH[j]) \n",
      "            # Compute the coefficients of gamma in the influence matrix\n",
      "        if (j==0):\n",
      "            A[i,0] = -U1*sin(TH[i]) + W1*cos(TH[i])\n",
      "            HOLDA = -U2*sin(TH[i]) + W2*cos(TH[i])\n",
      "            B[i,0] = U1*cos(TH[i]) + W1*sin(TH[i])\n",
      "            HOLDB = U2*cos(TH[i]) + W2*sin(TH[i])\n",
      "                    \n",
      "        elif (j==N-1):\n",
      "            A[i,N-1] = -U1*sin(TH[i]) + W1*cos(TH[i]) + HOLDA\n",
      "            A[i,N] = -U2*sin(TH[i]) + W2*cos(TH[i])\n",
      "            B[i,N-1] = U1*cos(TH[i]) + W1*sin(TH[i]) + HOLDB\n",
      "            B[i,N] = U2*cos(TH[i]) + W2*sin(TH[i])\n",
      "        else:\n",
      "            A[i,j] = -U1*sin(TH[i]) + W1*cos(TH[i]) + HOLDA\n",
      "            HOLDA = -U2*sin(TH[i]) + W2*cos(TH[i])\n",
      "            B[i,j] = U1*cos(TH[i]) + W1*sin(TH[i]) + HOLDB\n",
      "            HOLDB = U2*cos(TH[i]) + W2*sin(TH[i])\n",
      "    \n",
      "                        \n",
      "    A[i,NA] = cos(AL) * sin(TH[i]) - sin(AL)* cos(TH[i])\n",
      "\n",
      "\n",
      "A[NA-1,0] = 1         # Kutta condition\n",
      "A[NA-1,NA-1] = 1      # Kutta condition\n",
      "\n",
      "R = ToReducedRowEchelonForm(A)    # Solve the linear system\n",
      "G = R[:,NA]\n",
      "CL = 0\n",
      "CP = np.zeros(N,dtype=float)\n",
      "# calculate variables of interest\n",
      "for i in range(N):\n",
      "    VEL = 0\n",
      "    for j in range(NA):\n",
      "        VEL = VEL + B[i,j]*G[j]\n",
      "    \n",
      "    V = VEL + (cos(AL)*cos(TH[i]) + sin(AL) * sin(TH[i]))\n",
      "    CP[i] = 1 - V**2\n",
      "    CL = CL -1.0*CP[i]*(cos(AL)*cos(TH[i]) + sin(AL)* sin(TH[i]))*DL[i]\n",
      "\n",
      "for i in range(N):\n",
      "    panel[i].Cp = CP[i]\n"
     ],
     "language": "python",
     "metadata": {},
     "outputs": [],
     "prompt_number": 6
    },
    {
     "cell_type": "heading",
     "level": 3,
     "metadata": {},
     "source": [
      "Plot the pressure coefficients"
     ]
    },
    {
     "cell_type": "code",
     "collapsed": false,
     "input": [
      "valX,valY = 0.2,0.4\n",
      "xmin,xmax = min([p.xa for p in panel]),max([p.xa for p in panel])\n",
      "Cpmin,Cpmax = min([p.Cp for p in panel]),max([p.Cp for p in panel])\n",
      "xStart,xEnd = xmin-valX*(xmax-xmin),xmax+valX*(xmax-xmin)\n",
      "yStart,yEnd = Cpmin-valY*(Cpmax-Cpmin),Cpmax+valY*(Cpmax-Cpmin)      \n",
      "plt.figure(figsize=(10,6))\n",
      "plt.grid(True)\n",
      "plt.xlabel('x',fontsize=16)\n",
      "plt.ylabel('$C_p$',fontsize=16)\n",
      "plt.plot([p.xc for p in panel if p.loc=='extrados'],\\\n",
      "\t\t[p.Cp for p in panel if p.loc=='extrados'],\\\n",
      "\t\t'ro-',linewidth=2)\n",
      "plt.plot([p.xc for p in panel if p.loc=='intrados'],\\\n",
      "\t\t[p.Cp for p in panel if p.loc=='intrados'],\\\n",
      "\t\t'bo-',linewidth=1)\n",
      "plt.legend(['extrados','intrados'],'best',prop={'size':14})\n",
      "plt.xlim(xStart,xEnd)\n",
      "plt.ylim(yStart,yEnd)\n",
      "plt.gca().invert_yaxis()\n",
      "plt.title('Number of panels : %d'%len(panel));"
     ],
     "language": "python",
     "metadata": {},
     "outputs": [
      {
       "metadata": {},
       "output_type": "display_data",
       "png": "[encoded data removed]",
       "text": [
        "<matplotlib.figure.Figure at 0x3086f50>"
       ]
      }
     ],
     "prompt_number": 7
    },
    {
     "cell_type": "heading",
     "level": 2,
     "metadata": {},
     "source": [
      "Two element linear strength vortex panel method"
     ]
    },
    {
     "cell_type": "markdown",
     "metadata": {},
     "source": [
      "The development Python code has four key components. The geometry components takes a set of points describing the geometry of the airfoil and breaks it down into panels. The influence coefficients part of the script builds up a matrix relating the influence one panel has on every other panel. The solver part solves the large system of equations. Finally, post processing is done to obtain a pressure distribution."
     ]
    },
    {
     "cell_type": "heading",
     "level": 3,
     "metadata": {},
     "source": [
      "Geometry"
     ]
    },
    {
     "cell_type": "code",
     "collapsed": false,
     "input": [
      "coords = np.loadtxt(fname='/home/starson/AeroPython/resources/s1223.dat')\n",
      "xpM,ypM = coords[:,0],coords[:,1]            # read in the original airfoil\n",
      "\n",
      "# Scale the second flap\n",
      "xpF = 0.5*np.copy(xpM)                       # scaled x coordinate of flap\n",
      "ypF = 0.5*np.copy(ypM)                       # scaled y coordinate of flap\n",
      "\n",
      "# rotate the flap angle delta 35 degree down\n",
      "delta = 35\n",
      "\n",
      "x1 = np.zeros_like(xpF)      \n",
      "y1 = np.zeros_like(ypF)\n",
      "\n",
      "L = len(xpM)\n",
      "\n",
      "for i in range(L):\n",
      "    r  = sqrt(xpF[i]**2+ypF[i]**2)\n",
      "    thetatr = np.arctan2(ypF[i],xpF[i])\n",
      "    theta = thetatr - delta*pi/180.0\n",
      "    x1[i] = r*cos(theta)\n",
      "    y1[i] = r*sin(theta)\n",
      "\n",
      "xpF = x1\n",
      "ypF = y1\n",
      "\n",
      "xpF = xpF + 0.92                            # translated x coordinate\n",
      "ypF = ypF -0.06                             # translated y coordinate\n",
      "\n",
      "# plotting the geometry\n",
      "valX,valY = 0.2,0.4                          #value for plot margin    \n",
      "xmin,xmax = min(xpM),max(xpF)\n",
      "ymin,ymax = min(ypF),max(ypM)\n",
      "xStart,xEnd = xmin-valX*(xmax-xmin),xmax+valX*(xmax-xmin)\n",
      "yStart,yEnd = ymin-valY*(ymax-ymin),ymax+valY*(ymax-ymin)\n",
      "\n",
      "size=10\n",
      "plt.figure(figsize=(size,(yEnd-yStart)/(xEnd-xStart)*size))\n",
      "plt.grid(True)\n",
      "plt.xlabel('x',fontsize=16)\n",
      "plt.ylabel('y',fontsize=16)\n",
      "plt.xlim(xStart,xEnd)\n",
      "plt.ylim(yStart,yEnd)\n",
      "plt.plot(xpM,ypM,xpF,ypF,'k-',linewidth=2);"
     ],
     "language": "python",
     "metadata": {},
     "outputs": [
      {
       "metadata": {},
       "output_type": "display_data",
       "png": "[encoded data removed]",
       "text": [
        "<matplotlib.figure.Figure at 0x308c550>"
       ]
      }
     ],
     "prompt_number": 8
    },
    {
     "cell_type": "heading",
     "level": 3,
     "metadata": {},
     "source": [
      "Distretization"
     ]
    },
    {
     "cell_type": "code",
     "collapsed": false,
     "input": [
      "NM,NF = 100,50                                     # Number of panels for each\n",
      "\n",
      "\n",
      "Ntotal = NM + NF                                  # Total number of panels\n",
      "NA = Ntotal + 2                                   # Size of A matrix\n",
      "\n",
      "panelM = definePanels(NM,xpM,ypM)\n",
      "panelF = definePanels(NF,xpF,ypF)\n",
      "\n",
      "# plotting the geometry with the panels\n",
      "valX,valY = 0.2,0.4\n",
      "xmin,xmax = min([p.xa for p in panelM]),max([p.xa for p in panelF])\n",
      "ymin,ymax = min([p.ya for p in panelF]),max([p.ya for p in panelM])\n",
      "xStart,xEnd = xmin-valX*(xmax-xmin),xmax+valX*(xmax-xmin)\n",
      "yStart,yEnd = ymin-valY*(ymax-ymin),ymax+valY*(ymax-ymin)\n",
      "size = 10\n",
      "plt.figure(figsize=(size,(yEnd-yStart)/(xEnd-xStart)*size))\n",
      "plt.grid(True)\n",
      "plt.xlabel('x',fontsize=16)\n",
      "plt.ylabel('y',fontsize=16)\n",
      "plt.xlim(xStart,xEnd)\n",
      "plt.ylim(yStart,yEnd)\n",
      "plt.plot(xpM,ypM,xpF,ypF,'k-',linewidth=2)\n",
      "plt.plot(np.append([p.xa for p in panelM],panelM[0].xa),\\\n",
      "        np.append([p.ya for p in panelM],panelM[0].ya),\\\n",
      "        np.append([p.xa for p in panelF],panelF[0].xa),\\\n",
      "        np.append([p.ya for p in panelF],panelF[0].ya),\\\n",
      "        marker='D',markersize=6,color='r');"
     ],
     "language": "python",
     "metadata": {},
     "outputs": [
      {
       "metadata": {},
       "output_type": "display_data",
       "png": "[encoded data removed]",
       "text": [
        "<matplotlib.figure.Figure at 0x2e1f850>"
       ]
      }
     ],
     "prompt_number": "*"
    },
    {
     "cell_type": "heading",
     "level": 3,
     "metadata": {},
     "source": [
      "Build and solve Matrix system"
     ]
    },
    {
     "cell_type": "code",
     "collapsed": false,
     "input": [
      "# Create A matrix\n",
      "A = np.zeros((NA,NA+1),dtype=float)\n",
      "B = np.zeros_like(A)\n",
      "# Merge all coefficients into one set\n",
      "# Do flap then main\n",
      "\n",
      "CO1 = np.append([p.xc for p in panelF],[p.xc for p in panelM])\n",
      "CO2 = np.append([p.yc for p in panelF],[p.yc for p in panelM])\n",
      "\n",
      "TH = np.append([p.TH for p in panelF],[p.TH for p in panelM])\n",
      "DL = np.append([p.length for p in panelF],[p.length for p in panelM])\n",
      "for i in range(Ntotal):\n",
      "\n",
      "#determine if we are on the flap or main\n",
      "    if(i<NF):\n",
      "    # Dealing with the both collocation points on flap\n",
      "\n",
      "        for j in range(Ntotal+1):\n",
      "            if(j<NF):\n",
      "        # We are dealing with both collocation points on flap\n",
      "        # We find the influence coefficient for a specific collocation \n",
      "        # point, i, on each of the panels, j. Then we move to the next\n",
      "        # collocation point\n",
      "\n",
      "        # Convert collocation point to local panel coordinates   \n",
      "                XT = CO1[i] - panelF[j].xa\n",
      "                YT = CO2[i] - panelF[j].ya\n",
      "                X2T = panelF[j].xb - panelF[j].xa\n",
      "                Y2T = panelF[j].yb - panelF[j].ya\n",
      "                \n",
      "                X = XT*cos(TH[j]) + YT*sin(TH[j])  # collocation point\n",
      "                Y = -XT*sin(TH[j]) + YT*cos(TH[j]) # collocation point\n",
      "                X1 = 0\n",
      "                Y1 = 0\n",
      "                X2 = X2T*cos(TH[j]) + Y2T*sin(TH[j])\n",
      "                Y2 = 0\n",
      "                \n",
      "        # Find the length of r1,r2,theta1 and theta2\n",
      "                R1 = sqrt((X-X1)**2 + (Y-Y1)**2)   # length from panel point 1 to collocation point in panel coords\n",
      "                R2 = sqrt((X-X2)**2 + (Y-Y2)**2)   # length from panel point 2 to collocation point in panel coords\n",
      "                \n",
      "                TH1 = atan2(Y-Y1,X-X1)\n",
      "                TH2 = atan2(Y-Y2,X-X2)\n",
      "                \n",
      "                if i==j:\n",
      "                    Y = 0\n",
      "                    TH1 = 0\n",
      "        # Compute velocity components as functions of Gamma1 and Gamma2\n",
      "        # Velocity of panel j due to collocation point i \n",
      "                if(i==j):\n",
      "                    U1L = -0.5*(X-X2)/X2*Uinf\n",
      "                    U2L = 0.5*X/X2*Uinf\n",
      "                    W1L = -0.15916*Uinf\n",
      "                    W2L = 0.15916*Uinf\n",
      "                    \n",
      "                else:\n",
      "                    U1L = -(Y*log(R2/R1)+X*(TH2-TH1)-X2*(TH2-TH1))/(6.28319*X2)\n",
      "                    U2L = (Y*log(R2/R1) + X*(TH2-TH1))/(6.28319*X2)\n",
      "                    W1L = -((X2-Y*(TH2-TH1)) - X*log(R1/R2) + X2*log(R1/R2))/(6.28319*X2)\n",
      "                    W2L = ((X2 - Y*(TH2-TH1))-X*log(R1/R2))/(6.28319*X2)   \n",
      "                \n",
      "            # Transform the local velocities into global velocity function\n",
      "                U1 = U1L*cos(-TH[j]) + W1L*sin(-TH[j])\n",
      "                U2 = U2L*cos(-TH[j]) + W2L*sin(-TH[j])\n",
      "                W1 = -U1L*sin(-TH[j]) + W1L*cos(-TH[j])\n",
      "                W2 = -U2L*sin(-TH[j]) + W2L*cos(-TH[j])\n",
      "\n",
      "            # Compute the coefficients of gamma in the influence matrix\n",
      "                if ((j==0) or (j==NF)):\n",
      "                    A[i,0] = -U1*sin(TH[i]) + W1*cos(TH[i])\n",
      "                    HOLDA = -U2*sin(TH[i]) + W2*cos(TH[i])\n",
      "                    B[i,0] = U1*cos(TH[i]) + W1*sin(TH[i])\n",
      "                    HOLDB = U2*cos(TH[i]) + W2*sin(TH[i])\n",
      "                    \n",
      "                elif (j==NF-1):\n",
      "                    A[i,NF-1] = -U1*sin(TH[i]) + W1*cos(TH[i]) + HOLDA\n",
      "                    A[i,NF] = -U2*sin(TH[i]) + W2*cos(TH[i])\n",
      "                    B[i,NF-1] = U1*cos(TH[i]) + W1*sin(TH[i]) + HOLDB\n",
      "                    B[i,NF] = U2*cos(TH[i]) + W2*sin(TH[i])\n",
      "                else:\n",
      "                    A[i,j] = -U1*sin(TH[i]) + W1*cos(TH[i]) + HOLDA\n",
      "                    HOLDA = -U2*sin(TH[i]) + W2*cos(TH[i])\n",
      "                    B[i,j] = U1*cos(TH[i]) + W1*sin(TH[i]) + HOLDB\n",
      "                    HOLDB = U2*cos(TH[i]) + W2*sin(TH[i])\n",
      "            elif (j>NF):\n",
      "        # collocation point i is on the flap, collocation point j is on main\n",
      "        \n",
      "        # we find the influence coefficient for a specific collocation\n",
      "        # point, i, on each of panels, j. Then we move on to the next collocation point\n",
      "        \n",
      "        # since there are two separate airfoils, point j=NF+1\n",
      "        # should not be solved for (this is the 2nd edge of the last panel)\n",
      "        # During the for loop, any j after this should be j-1, \n",
      "        # the reference the correct panel, except when referring to matrix A\n",
      "        \n",
      "        # Convert collocation point to local coords\n",
      "                XT = CO1[i] - panelM[j-NF-1].xa\n",
      "                YT = CO2[i] - panelM[j-NF-1].ya\n",
      "                X2T = panelM[j-NF-1].xb-panelM[j-NF-1].xa\n",
      "                Y2T = panelM[j-NF-1].yb-panelM[j-NF-1].ya\n",
      "               \n",
      "                X = XT*cos(TH[j-1]) + YT*sin(TH[j-1])   # collocation point\n",
      "                Y = -XT*sin(TH[j-1]) + YT*cos(TH[j-1])  # collocation point\n",
      "                X1 = 0\n",
      "                Y1 = 0\n",
      "                X2 = X2T*cos(TH[j-1]) + Y2T*sin(TH[j-1])\n",
      "                Y2 = 0\n",
      "        # Find the length of r1,r2, theta1 and theta2\n",
      "                R1 = sqrt((X-X1)**2 + (Y-Y1)**2)\n",
      "                R2 = sqrt((X-X2)**2 + (Y-Y2)**2)\n",
      "                \n",
      "                TH1 = atan2(Y-Y1,X-X1)\n",
      "                TH2 = atan2(Y-Y2,X-X2)\n",
      "                \n",
      "                if (i==j-1):\n",
      "                    Y = 0\n",
      "                    TH1 = 0\n",
      "                    \n",
      "                \n",
      "        # Compute velocity components as functions of Gamma1 and Gamm2\n",
      "        # velocity of panel j due to collocation point i\n",
      "                if (i==j-1):\n",
      "                    U1L = -0.5*(X-X2)/X2*Uinf\n",
      "                    U2L = 0.5*X/X2*Uinf\n",
      "                    W1L = -0.15916*Uinf\n",
      "                    W2L = 0.15916*Uinf\n",
      "                else:\n",
      "                    U1L = -(Y*log(R2/R1)+X*(TH2-TH1)-X2*(TH2-TH1))/(6.28319*X2)\n",
      "                    U2L = (Y*log(R2/R1) + X*(TH2-TH1))/(6.28319*X2)\n",
      "                    W1L = -((X2-Y*(TH2-TH1))-X*log(R1/R2) + X2*log(R1/R2))/(6.28310*X2)\n",
      "                    W2L = ((X2-Y*(TH2-TH1))-X*log(R1/R2))/(6.28319*X2)\n",
      "                    \n",
      "        # Transferom the local velocities into global velocity function\n",
      "                U1 = U1L*cos(-TH[j-1]) + W1L*sin(-TH[j-1])\n",
      "                U2 = U2L*cos(-TH[j-1]) + W2L*sin(-TH[j-1])\n",
      "                W1 = -U1L*sin(-TH[j-1]) + W1L*cos(-TH[j-1])\n",
      "                W2 = -U2L*sin(-TH[j-1]) + W2L*cos(-TH[j-1])\n",
      "        \n",
      "        # Compute the coefficients of gamma in the influence matrix\n",
      "                if (j==NF+1):\n",
      "                    A[i,NF+1] = -U1*sin(TH[i]) + W1*cos(TH[i])\n",
      "                    HOLDA = -U2*sin(TH[i]) + W2*cos(TH[i])\n",
      "                    B[i,NF+1] = U1*cos(TH[i]) + W1*sin(TH[i])\n",
      "                    HOLDB = U2*cos(TH[i]) + W2*sin(TH[i])\n",
      "                elif (j==Ntotal):\n",
      "                    A[i,Ntotal] = -U1*sin(TH[i]) + W1*cos(TH[i]) + HOLDA\n",
      "                    A[i,NA-1] = -U2*sin(TH[i]) + W2*cos(TH[i])\n",
      "                    B[i,Ntotal] = U1*cos(TH[i]) + W1*sin(TH[i]) + HOLDB\n",
      "                    B[i,NA-1] = U2*cos(TH[i]) + W2*sin(TH[i])\n",
      "                else:\n",
      "                    A[i,j] = -U1*sin(TH[i]) + W1*cos(TH[i]) + HOLDA\n",
      "                    HOLDA = -U2*sin(TH[i]) + W2*cos(TH[i])\n",
      "                    B[i,j] = U1*cos(TH[i]) + W1*sin(TH[i]) + HOLDB\n",
      "                    HOLDB = U2*cos(TH[i]) + W2*sin(TH[i])\n",
      "         \n",
      "        A[i,NA] = cos(AL) * sin(TH[i]) -sin(AL)*cos(TH[i])\n",
      "\n",
      "    else:\n",
      "    # We are dealing with the collocation point on the main\n",
      "        for j in range(Ntotal+1):\n",
      "            if (j<NF):\n",
      "        # CO point i is on main, CO point j is on flap\n",
      "        \n",
      "        # We find the influence coefficient for a specific collocation \n",
      "        # point, i, on each of panels, j. Then we move to the n collocation point.\n",
      "        \n",
      "        # Convert collocation point to local panel coordinates\n",
      "                XT = CO1[i] - panelF[j].xa\n",
      "                YT = CO2[i] - panelF[j].ya\n",
      "                X2T = panelF[j].xb - panelF[j].xa\n",
      "                Y2T = panelF[j].yb - panelF[j].ya\n",
      "                \n",
      "                X = XT*cos(TH[j]) + YT*sin(TH[j])     # collocation point\n",
      "                Y = -XT*sin(TH[j]) + YT*cos(TH[j])    # collocation point\n",
      "                X1 = 0\n",
      "                Y1 = 0\n",
      "                X2 = X2T*cos(TH[j]) + Y2T*sin(TH[j])\n",
      "                Y2 = 0\n",
      "                \n",
      "        # find the length of r1, r2, theta1 and theta2\n",
      "                R1 = sqrt((X-X1)**2 + (Y-Y1)**2)      # length from panel point 1 collocation point , panel coords\n",
      "                R2 = sqrt((X-X2)**2 + (Y-Y2)**2)      # length from panel point 2 collocation point, in panel coords\n",
      "                \n",
      "                TH1 = atan2(Y-Y1,X-X1)\n",
      "                TH2 = atan2(Y-Y2,X-X2)\n",
      "                \n",
      "                if (i==j):\n",
      "                    Y = 0\n",
      "                    TH1 = 0\n",
      "                \n",
      "        # Compute velocity componets as function of Gamma1 and Gamma2\n",
      "        # Velocity of panel j due to collocation point 1\n",
      "                if(i==j):\n",
      "                    U1L = -0.5*(X-X2)/X2*Uinf\n",
      "                    U2L = 0.5*X/X2*Uinf\n",
      "                    W1L = -0.15916*Uinf\n",
      "                    W2L = 0.15916*Uinf\n",
      "                else:\n",
      "                    U1L = -(Y*log(R2/R1)+X*(TH2-TH1)-X2*(TH2-TH1))/(6.28319*X2)\n",
      "                    U2L = (Y*log(R2/R1) + X*(TH2-TH1))/(6.28319*X2)\n",
      "                    W1L = -((X2-Y*(TH2-TH1)) - X*log(R1/R2) + X2*log(R1/R2))/(6.28319*X2)\n",
      "                    W2L = ((X2 - Y*(TH2-TH1))-X*log(R1/R2))/(6.28319*X2)\n",
      "        # Transform the local velocities into global velocity functions\n",
      "                \n",
      "                U1 = U1L*cos(-TH[j]) + W1L*sin(-TH[j])\n",
      "                U2 = U2L*cos(-TH[j]) + W2L*sin(-TH[j])\n",
      "                W1 = -U1L*sin(-TH[j]) + W1L*cos(-TH[j])\n",
      "                W2 = -U2L*sin(-TH[j]) + W2L*cos(-TH[j])\n",
      "                \n",
      "                if (j==0):\n",
      "                    A[i,0] = -U1*sin(TH[i]) + W1*cos(TH[i])\n",
      "                    HOLDA = -U2*sin(TH[i]) + W2*cos(TH[i])\n",
      "                    B[i,0] = U1*cos(TH[i]) + W1*sin(TH[i])\n",
      "                    HOLDB = U2*cos(TH[i]) + W2*sin(TH[i])\n",
      "                elif(j==NF-1):\n",
      "                    A[i,NF-1] = -U1*sin(TH[i]) + W1*cos(TH[i]) + HOLDA\n",
      "                    A[i,NF] = -U2*sin(TH[i]) + W2*cos(TH[i])\n",
      "                    B[i,NF-1] = U1*cos(TH[i]) + W1*sin(TH[i]) + HOLDB\n",
      "                    B[i,NF] = U2*cos(TH[i]) * W2*sin(TH[i])\n",
      "                else:\n",
      "                    A[i,j] = -U1*sin(TH[i]) + W1*cos(TH[i]) + HOLDA\n",
      "                    HOLDA = -U2*sin(TH[i]) + W2*cos(TH[i])\n",
      "                    B[i,j] = U1*cos(TH[i]) + W1*sin(TH[i]) + HOLDB\n",
      "                    HOLDB = U2*cos(TH[i]) + W2*sin(TH[i])\n",
      "            \n",
      "            elif (j>NF):\n",
      "            \n",
      "            # collocation point i is on main, collocation point j is on main\n",
      "            \n",
      "            # we find the influence coefficient for a specific collocation\n",
      "            # point, i, on each of panel, j. Then we move on to the next collocation point\n",
      "            \n",
      "            # since there are two separate airfolds, point j = NF\n",
      "            # should not be solved for (this is the 2nd edge of the last panel)\n",
      "            # During the for loop, any j after\n",
      "            # this should be j-1, to reference the correct panel, except when referring to matrix A\n",
      "            \n",
      "            # Convert collocation point To local panel coordinates\n",
      "                XT = CO1[i] - panelM[j-NF-1].xa\n",
      "                YT = CO2[i] - panelM[j-NF-1].ya\n",
      "                X2T = panelM[j-NF-1].xb - panelM[j-NF-1].xa\n",
      "                Y2T = panelM[j-NF-1].yb - panelM[j-NF-1].ya\n",
      "                \n",
      "                X = XT*cos(TH[j-1]) + YT*sin(TH[j-1])\n",
      "                Y = -XT*sin(TH[j-1]) + YT*cos(TH[j-1])\n",
      "                X1 = 0\n",
      "                Y1 = 0\n",
      "                X2 = X2T*cos(TH[j-1]) + Y2T*sin(TH[j-1])\n",
      "                Y2 = 0\n",
      "                \n",
      "            # Find the length of r1, r2, theta1, and theta2\n",
      "                R1 = sqrt((X-X1)**2 + (Y-Y1)**2)  # length from panel point 1 to collocation point, in panel coords\n",
      "                R2 = sqrt((X-X2)**2 + (Y-Y2)**2)  # length from panel point 2 to collocation point, in panel coords\n",
      "                \n",
      "                TH1 = atan2(Y-Y1,X-X1)\n",
      "                TH2 = atan2(Y-Y2,X-X2)\n",
      "                \n",
      "                if i==j-1:\n",
      "                    Y = 0\n",
      "                    TH1 = 0\n",
      "                \n",
      "            # Compute velocity components as functions of Gamma1 and Gamma2\n",
      "            # Velocity of panel j due to collocation point i \n",
      "                if i==j-1:\n",
      "                    U1L = -0.5*(X-X2)/X2*Uinf\n",
      "                    U2L = 0.5*X/X2*Uinf\n",
      "                    W1L = -0.15916*Uinf\n",
      "                    W2L = 0.15916*Uinf\n",
      "                else:\n",
      "                    U1L = -(Y*log(R2/R1) + X*(TH2-TH1) - X2*(TH2-TH1))/(6.28319*X2)\n",
      "                    U2L = (Y*log(R2/R1) + X*(TH2-TH1))/(6.28319*X2)\n",
      "                    W1L = -((X2-Y*(TH2-TH1)) - X*log(R1/R2) + X2*log(R1/R2))/(6.28319*X2)\n",
      "                    W2L = ((X2-Y*(TH2-TH1)) - X*log(R1/R2))/(6.28319*X2)\n",
      "                \n",
      "            # Transform the local velocities into global velocity functions\n",
      "                U1 = U1L*cos(-TH[j-1]) + W1L*sin(-TH[j-1])\n",
      "                U2 = U2L*cos(-TH[j-1]) + W2L*sin(-TH[j-1])\n",
      "                W1 = -U1L*sin(-TH[j-1]) + W1L*cos(-TH[j-1])\n",
      "                W2 = -U2L*sin(-TH[j-1]) + W2L*cos(-TH[j-1])\n",
      "                \n",
      "            # Compute the coefficients of gamma in the influence matrix\n",
      "                if (j == NF+1):\n",
      "                    A[i,NF+1] = -U1*sin(TH[i]) + W1*cos(TH[i])\n",
      "                    HOLDA = -U2*sin(TH[i]) + W2*cos(TH[i])\n",
      "                    B[i,NF+1] = U1*cos(TH[i]) + W1*sin(TH[i])\n",
      "                    HOLDB = U2*cos(TH[i]) + W2*sin(TH[i])\n",
      "                elif (j==Ntotal):\n",
      "                    A[i,Ntotal] = -U1*sin(TH[i]) + W1*cos(TH[i]) + HOLDA\n",
      "                    A[i,NA-1] = -U2*sin(TH[i]) + W2*cos(TH[i])\n",
      "                    B[i,Ntotal] = U1*cos(TH[i]) + W1*sin(TH[i]) + HOLDB\n",
      "                    B[i,NA-1] = U2*cos(TH[i]) + W2*sin(TH[i])\n",
      "                else:\n",
      "                    A[i,j] = -U1*sin(TH[i]) + W1*cos(TH[i]) + HOLDA\n",
      "                    HOLDA = -U2*sin(TH[i]) + W2*cos(TH[i])\n",
      "                    B[i,j] = U1*cos(TH[i]) + W1*sin(TH[i]) + HOLDB\n",
      "                    HOLDB = U2*cos(TH[i]) + W2*sin(TH[i])\n",
      "                \n",
      "        A[i,NA] = cos(AL) * sin(TH[i]) - sin(AL)* cos(TH[i])\n",
      "\n",
      "\n",
      "        # Add both kutta conditions. Be careful of where the ones are\n",
      "        # matrix columns NF and Ntotal+1 are the last edges of the airfold\n",
      "\n",
      "#Flap\n",
      "A[NA-2,0] = 1        # Kutta condition\n",
      "A[NA-2,NF] = 1       # Kutta condition\n",
      "#Main\n",
      "A[NA-1,NF+1] = 1     # Kutta condition\n",
      "A[NA-1,NA-1] = 1     # Kutta condition\n",
      "R = ToReducedRowEchelonForm(A)\n",
      "\n",
      "G = R[:,NA]\n",
      "\n",
      "CL = 0 \n",
      "CP = np.zeros(Ntotal,dtype=float)\n",
      "# calculate variables of interest\n",
      "for i in range(Ntotal):\n",
      "    VEL = 0\n",
      "    for j in range(NA):\n",
      "        VEL = VEL + B[i,j]*G[j]\n",
      "    \n",
      "    V = VEL + cos(AL)*cos(TH[i]) + sin(AL) * sin(TH[i])\n",
      "    CP[i] = 1 - V**2\n",
      "    CL = CL -1.0*CP[i]*(cos(AL)*cos(TH[i]) + sin(AL)* sin(TH[i]))*DL[i]\n",
      "\n",
      "CP = np.transpose(CP)\n",
      "\n",
      "for i in range(Ntotal):\n",
      "    if (i<NF):\n",
      "        panelF[i].Cp = CP[i]\n",
      "    else:\n",
      "        panelM[i-NF].Cp = CP[i]\n",
      "\n",
      "    CL = CL + -1.0*CP[i]*(cos(AL)*cos(TH[i]) + sin(AL)* sin(TH[i]))*DL[i]\n"
     ],
     "language": "python",
     "metadata": {},
     "outputs": [],
     "prompt_number": "*"
    },
    {
     "cell_type": "heading",
     "level": 3,
     "metadata": {},
     "source": [
      "Plot the pressure coefficients"
     ]
    },
    {
     "cell_type": "code",
     "collapsed": false,
     "input": [
      "# Plot pressure coefficients\n",
      "valX,valY = 0.2,0.4\n",
      "xmin,xmax = min([p.xa for p in panelM]),max([p.xa for p in panelF])\n",
      "Cpmin,Cpmax = min([p.Cp for p in panelM]),max([p.Cp for p in panelM])\n",
      "xStart,xEnd = xmin-valX*(xmax-xmin),xmax+valX*(xmax-xmin)\n",
      "yStart,yEnd = Cpmin-valY*(Cpmax-Cpmin),Cpmax+valY*(Cpmax-Cpmin)      \n",
      "plt.figure(figsize=(10,6))\n",
      "plt.grid(True)\n",
      "plt.xlabel('x',fontsize=16)\n",
      "plt.ylabel('$C_p$',fontsize=16)\n",
      "plt.plot([p.xc for p in panelM if p.loc=='extrados'],\\\n",
      "\t\t[p.Cp for p in panelM if p.loc=='extrados'],\\\n",
      "\t\t'ro-',linewidth=1)\n",
      "plt.plot([p.xc for p in panelM if p.loc=='intrados'],\\\n",
      "\t\t[p.Cp for p in panelM if p.loc=='intrados'],\\\n",
      "\t\t'bo-',linewidth=1)\n",
      "plt.plot([p.xc for p in panelF if p.loc=='extrados'],\\\n",
      "\t\t[p.Cp for p in panelF if p.loc=='extrados'],\\\n",
      "\t\t'ro-',linewidth=1)\n",
      "plt.plot([p.xc for p in panelF if p.loc=='intrados'],\\\n",
      "\t\t[p.Cp for p in panelF if p.loc=='intrados'],\\\n",
      "\t\t'bo-',linewidth=1)\n",
      "plt.legend(['extrados','intrados'],'best',prop={'size':14})\n",
      "plt.plot([p.xc for p in panelF],[p.Cp for p in panelF],'ro',linewidth=2)\n",
      "plt.xlim(xStart,xEnd)\n",
      "plt.ylim(yStart,yEnd)\n",
      "plt.title('Number of panels : %d'%Ntotal);"
     ],
     "language": "python",
     "metadata": {},
     "outputs": [],
     "prompt_number": "*"
    },
    {
     "cell_type": "heading",
     "level": 3,
     "metadata": {},
     "source": [
      "Comparing with published results"
     ]
    },
    {
     "cell_type": "code",
     "collapsed": false,
     "input": [
      "Image(filename='/home/starson/AeroPython/resources/2elements.png')"
     ],
     "language": "python",
     "metadata": {},
     "outputs": [],
     "prompt_number": "*"
    },
    {
     "cell_type": "heading",
     "level": 2,
     "metadata": {},
     "source": [
      "Conclusion"
     ]
    },
    {
     "cell_type": "markdown",
     "metadata": {},
     "source": [
      "The two elements linear strength vortex panel method derived from single element method. The two elements geometry is more close to the real airplane wing geometry.This code could easily be adapted to any two element wing. Also, this is a good starting point to develop multi-elemnts by using linear-strength vortex method. "
     ]
    },
    {
     "cell_type": "heading",
     "level": 2,
     "metadata": {},
     "source": [
      "Reference"
     ]
    },
    {
     "cell_type": "markdown",
     "metadata": {},
     "source": [
      "\n",
      "<i>Katz, J., & Plotkin, A. (2001). Low-speed aerodynamics (Vol. 13). Cambridge University Press.<i/>\n",
      "\n"
     ]
    },
    {
     "cell_type": "markdown",
     "metadata": {},
     "source": [
      "<i>C.Cox ,Two Element Linear Strength Vortex Panel Method,2011.<i/>"
     ]
    },
    {
     "cell_type": "code",
     "collapsed": false,
     "input": [],
     "language": "python",
     "metadata": {},
     "outputs": []
    }
   ],
   "metadata": {}
  }
 ]
}